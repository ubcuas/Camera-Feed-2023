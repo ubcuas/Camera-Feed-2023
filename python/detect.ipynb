{
 "cells": [
  {
   "cell_type": "code",
   "execution_count": 1,
   "metadata": {},
   "outputs": [],
   "source": [
    "import cv2\n",
    "from PIL import Image, ImageDraw"
   ]
  },
  {
   "cell_type": "code",
   "execution_count": 2,
   "metadata": {
    "collapsed": false,
    "jupyter": {
     "outputs_hidden": false
    }
   },
   "outputs": [],
   "source": [
    "def show_detect(image_arr, centroids):\n",
    "    # Draw red circles on the centroids\n",
    "    image = Image.fromarray(image_arr)\n",
    "    draw = ImageDraw.Draw(image)\n",
    "\n",
    "    for i in range(1, num_labels):  # Start from 1 to skip the background\n",
    "        # Get the centroid for each component\n",
    "        cx, cy = centroids[i]\n",
    "\n",
    "        # Draw a red circle at the centroid\n",
    "        radius = 13  # Circle radius\n",
    "        draw.rectangle([cx - radius, cy - radius, cx + radius, cy + radius], outline=\"white\", width=2)\n",
    "    image.show()"
   ]
  },
  {
   "cell_type": "code",
   "execution_count": 3,
   "metadata": {
    "collapsed": false,
    "jupyter": {
     "outputs_hidden": false
    }
   },
   "outputs": [],
   "source": [
    "image = cv2.imread('img_1.png', cv2.IMREAD_GRAYSCALE)\n",
    "\n",
    "image_jet = cv2.applyColorMap(image, cv2.COLORMAP_JET)\n",
    "image_jet = cv2.cvtColor(image_jet, cv2.COLOR_RGB2BGR)\n",
    "\n",
    "Kernel = cv2.getStructuringElement(cv2.MORPH_RECT, (13, 13))\n",
    "whitehat = cv2.morphologyEx(image, cv2.MORPH_TOPHAT, Kernel)\n",
    "whitehat_jet = cv2.applyColorMap(whitehat, cv2.COLORMAP_JET)\n",
    "whitehat_jet = cv2.cvtColor(whitehat_jet, cv2.COLOR_RGB2BGR)\n",
    "\n",
    "threshold, binary = cv2.threshold(whitehat,100,255,cv2.THRESH_BINARY)\n",
    "num_labels, labels, stats, centroids = cv2.connectedComponentsWithStats(binary)\n",
    "\n",
    "show_detect(image_jet, centroids)\n",
    "show_detect(whitehat_jet, centroids)\n",
    "# show_detect(binary, centroids)\n"
   ]
  },
  {
   "cell_type": "code",
   "execution_count": 4,
   "metadata": {
    "collapsed": false,
    "jupyter": {
     "outputs_hidden": false
    }
   },
   "outputs": [
    {
     "name": "stdout",
     "output_type": "stream",
     "text": [
      "Mean: 1.8745381191007489\n",
      "Max: 108\n",
      "Min: 0\n",
      "Standard Deviation: 1.5203758454184801\n",
      "Median: 2.0\n"
     ]
    }
   ],
   "source": [
    "import numpy as np\n",
    "\n",
    "mean_value = np.mean(whitehat)\n",
    "max_value = np.max(whitehat)\n",
    "min_value = np.min(whitehat)\n",
    "std_value = np.std(whitehat)\n",
    "median_value = np.median(whitehat)\n",
    "\n",
    "# Output\n",
    "print(f\"Mean: {mean_value}\")\n",
    "print(f\"Max: {max_value}\")\n",
    "print(f\"Min: {min_value}\")\n",
    "print(f\"Standard Deviation: {std_value}\")\n",
    "print(f\"Median: {median_value}\")"
   ]
  },
  {
   "cell_type": "code",
   "execution_count": 5,
   "metadata": {
    "collapsed": false,
    "jupyter": {
     "outputs_hidden": false
    }
   },
   "outputs": [
    {
     "data": {
      "image/png": "[encoded data removed]",
      "text/plain": [
       "<Figure size 1000x600 with 1 Axes>"
      ]
     },
     "metadata": {},
     "output_type": "display_data"
    }
   ],
   "source": [
    "from PIL import Image\n",
    "import matplotlib.pyplot as plt\n",
    "\n",
    "histogram = cv2.calcHist([whitehat], [0], None, [256], [0, 256])\n",
    "\n",
    "# Plot the histogram as a bar plot\n",
    "plt.figure(figsize=(10, 6))\n",
    "plt.bar(range(256), histogram.flatten(), width=1, color='gray')\n",
    "plt.title('Pixel Intensity Histogram')\n",
    "plt.xlabel('Pixel Intensity')\n",
    "plt.ylabel('Frequency')\n",
    "plt.grid(True)\n",
    "plt.show()"
   ]
  }
 ],
 "metadata": {
  "kernelspec": {
   "display_name": "Python 3 (ipykernel)",
   "language": "python",
   "name": "python3"
  },
  "language_info": {
   "codemirror_mode": {
    "name": "ipython",
    "version": 3
   },
   "file_extension": ".py",
   "mimetype": "text/x-python",
   "name": "python",
   "nbconvert_exporter": "python",
   "pygments_lexer": "ipython3",
   "version": "3.11.10"
  }
 },
 "nbformat": 4,
 "nbformat_minor": 4
}
